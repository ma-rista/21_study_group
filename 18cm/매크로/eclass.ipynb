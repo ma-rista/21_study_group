{
 "cells": [
  {
   "cell_type": "code",
   "execution_count": 7,
   "metadata": {},
   "outputs": [],
   "source": [
    "import pyautogui as pag"
   ]
  },
  {
   "cell_type": "code",
   "execution_count": null,
   "metadata": {},
   "outputs": [],
   "source": []
  },
  {
   "cell_type": "code",
   "execution_count": 8,
   "metadata": {},
   "outputs": [
    {
     "ename": "SyntaxError",
     "evalue": "invalid syntax (<ipython-input-8-cf054e266e27>, line 1)",
     "output_type": "error",
     "traceback": [
      "\u001b[0;36m  File \u001b[0;32m\"<ipython-input-8-cf054e266e27>\"\u001b[0;36m, line \u001b[0;32m1\u001b[0m\n\u001b[0;31m    pip3 install pyautogui\u001b[0m\n\u001b[0m         ^\u001b[0m\n\u001b[0;31mSyntaxError\u001b[0m\u001b[0;31m:\u001b[0m invalid syntax\n"
     ]
    }
   ],
   "source": [
    "pip3 install pyautogui"
   ]
  },
  {
   "cell_type": "code",
   "execution_count": null,
   "metadata": {},
   "outputs": [
    {
     "name": "stdout",
     "output_type": "stream",
     "text": [
      "Collecting pyautogui\n",
      "  Using cached PyAutoGUI-0.9.53.tar.gz (59 kB)\n",
      "Collecting pymsgbox\n",
      "  Using cached PyMsgBox-1.0.9.tar.gz (18 kB)\n",
      "  Installing build dependencies ... \u001b[?25ldone\n",
      "\u001b[?25h  Getting requirements to build wheel ... \u001b[?25ldone\n",
      "\u001b[?25h    Preparing wheel metadata ... \u001b[?25ldone\n",
      "\u001b[?25hCollecting PyTweening>=1.0.1\n",
      "  Using cached pytweening-1.0.4.tar.gz (14 kB)\n",
      "Collecting pyscreeze>=0.1.21\n",
      "  Using cached PyScreeze-0.1.28.tar.gz (25 kB)\n",
      "  Installing build dependencies ... \u001b[?25ldone\n",
      "\u001b[?25h  Getting requirements to build wheel ... \u001b[?25ldone\n",
      "\u001b[?25h    Preparing wheel metadata ... \u001b[?25ldone\n",
      "\u001b[?25hCollecting pygetwindow>=0.0.5\n",
      "  Using cached PyGetWindow-0.0.9.tar.gz (9.7 kB)\n",
      "Collecting mouseinfo\n",
      "  Using cached MouseInfo-0.1.3.tar.gz (10 kB)\n",
      "Collecting pyobjc-core\n",
      "  Downloading pyobjc_core-8.1-cp38-cp38-macosx_10_9_x86_64.whl (307 kB)\n",
      "\u001b[K     |████████████████████████████████| 307 kB 3.7 MB/s \n",
      "\u001b[?25hCollecting pyobjc\n",
      "  Using cached pyobjc-8.1-py3-none-any.whl (3.8 kB)\n",
      "Collecting pyrect\n",
      "  Using cached PyRect-0.1.4.tar.gz (15 kB)\n",
      "Requirement already satisfied: Pillow>=6.2.1 in /Library/Python/anaconda3/lib/python3.8/site-packages (from pyscreeze>=0.1.21->pyautogui) (8.2.0)\n",
      "Collecting pyperclip\n",
      "  Using cached pyperclip-1.8.2.tar.gz (20 kB)\n",
      "Collecting rubicon-objc\n",
      "  Using cached rubicon_objc-0.4.2-py3-none-any.whl (58 kB)\n",
      "Collecting pyobjc-framework-SearchKit==8.1\n",
      "  Using cached pyobjc_framework_SearchKit-8.1-py2.py3-none-any.whl (3.3 kB)\n",
      "Collecting pyobjc-framework-OSLog==8.1\n",
      "  Downloading pyobjc_framework_OSLog-8.1-cp36-abi3-macosx_10_9_x86_64.whl (5.9 kB)\n",
      "Collecting pyobjc-framework-AuthenticationServices==8.1\n",
      "  Downloading pyobjc_framework_AuthenticationServices-8.1-cp36-abi3-macosx_10_9_x86_64.whl (9.1 kB)\n",
      "Collecting pyobjc-framework-WebKit==8.1\n",
      "  Downloading pyobjc_framework_WebKit-8.1-cp36-abi3-macosx_10_9_x86_64.whl (29 kB)\n",
      "Collecting pyobjc-framework-Contacts==8.1\n",
      "  Downloading pyobjc_framework_Contacts-8.1-cp36-abi3-macosx_10_9_x86_64.whl (9.3 kB)\n",
      "Collecting pyobjc-framework-DeviceCheck==8.1\n",
      "  Using cached pyobjc_framework_DeviceCheck-8.1-py2.py3-none-any.whl (3.2 kB)\n",
      "Collecting pyobjc-framework-CoreData==8.1\n",
      "  Downloading pyobjc_framework_CoreData-8.1-cp36-abi3-macosx_10_9_x86_64.whl (13 kB)\n",
      "Collecting pyobjc-framework-ClassKit==8.1\n",
      "  Downloading pyobjc_framework_ClassKit-8.1-cp36-abi3-macosx_10_9_x86_64.whl (6.2 kB)\n",
      "Collecting pyobjc-framework-FinderSync==8.1\n",
      "  Using cached pyobjc_framework_FinderSync-8.1-py2.py3-none-any.whl (4.4 kB)\n",
      "Collecting pyobjc-framework-MetalKit==8.1\n",
      "  Downloading pyobjc_framework_MetalKit-8.1-cp36-abi3-macosx_10_9_x86_64.whl (6.6 kB)\n",
      "Collecting pyobjc-framework-DictionaryServices==8.1\n",
      "  Using cached pyobjc_framework_DictionaryServices-8.1-py2.py3-none-any.whl (3.4 kB)\n",
      "Collecting pyobjc-framework-LocalAuthenticationEmbeddedUI==8.1\n",
      "  Using cached pyobjc_framework_LocalAuthenticationEmbeddedUI-8.1-py2.py3-none-any.whl (3.1 kB)\n",
      "Collecting pyobjc-framework-Cocoa==8.1\n",
      "  Downloading pyobjc_framework_Cocoa-8.1-cp38-cp38-macosx_10_9_x86_64.whl (278 kB)\n",
      "\u001b[K     |████████████████████████████████| 278 kB 2.1 MB/s \n",
      "\u001b[?25hCollecting pyobjc-framework-CalendarStore==8.1\n",
      "  Using cached pyobjc_framework_CalendarStore-8.1-py2.py3-none-any.whl (4.6 kB)\n",
      "Collecting pyobjc-framework-FileProvider==8.1\n",
      "  Downloading pyobjc_framework_FileProvider-8.1-cp38-cp38-macosx_10_9_x86_64.whl (11 kB)\n",
      "Collecting pyobjc-framework-PushKit==8.1\n",
      "  Downloading pyobjc_framework_PushKit-8.1-cp36-abi3-macosx_10_9_x86_64.whl (6.2 kB)\n",
      "Collecting pyobjc-framework-InstallerPlugins==8.1\n",
      "  Using cached pyobjc_framework_InstallerPlugins-8.1-py2.py3-none-any.whl (4.3 kB)\n",
      "Collecting pyobjc-framework-ContactsUI==8.1\n",
      "  Downloading pyobjc_framework_ContactsUI-8.1-cp36-abi3-macosx_10_9_x86_64.whl (6.0 kB)\n",
      "Collecting pyobjc-framework-libdispatch==8.1\n",
      "  Downloading pyobjc_framework_libdispatch-8.1-cp38-cp38-macosx_10_9_x86_64.whl (13 kB)\n",
      "Collecting pyobjc-framework-IMServicePlugIn==8.1\n",
      "  Downloading pyobjc_framework_IMServicePlugIn-8.1-cp36-abi3-macosx_10_9_x86_64.whl (9.7 kB)\n",
      "Collecting pyobjc-framework-AppTrackingTransparency==8.1\n",
      "  Using cached pyobjc_framework_AppTrackingTransparency-8.1-py2.py3-none-any.whl (3.3 kB)\n",
      "Collecting pyobjc-framework-DiskArbitration==8.1\n",
      "  Using cached pyobjc_framework_DiskArbitration-8.1-py2.py3-none-any.whl (4.3 kB)\n",
      "Collecting pyobjc-framework-CoreHaptics==8.1\n",
      "  Using cached pyobjc_framework_CoreHaptics-8.1-py2.py3-none-any.whl (4.5 kB)\n",
      "Collecting pyobjc-framework-ServiceManagement==8.1\n",
      "  Using cached pyobjc_framework_ServiceManagement-8.1-py2.py3-none-any.whl (4.5 kB)\n",
      "Collecting pyobjc-framework-MediaAccessibility==8.1\n",
      "  Using cached pyobjc_framework_MediaAccessibility-8.1-py2.py3-none-any.whl (3.8 kB)\n",
      "Collecting pyobjc-framework-MediaLibrary==8.1\n",
      "  Using cached pyobjc_framework_MediaLibrary-8.1-py2.py3-none-any.whl (3.8 kB)\n",
      "Collecting pyobjc-framework-GameKit==8.1\n",
      "  Downloading pyobjc_framework_GameKit-8.1-cp36-abi3-macosx_10_9_x86_64.whl (15 kB)\n",
      "Collecting pyobjc-framework-Automator==8.1\n",
      "  Using cached pyobjc_framework_Automator-8.1-py2.py3-none-any.whl (5.0 kB)\n",
      "Collecting pyobjc-framework-AppleScriptObjC==8.1\n",
      "  Using cached pyobjc_framework_AppleScriptObjC-8.1-py2.py3-none-any.whl (3.9 kB)\n",
      "Collecting pyobjc-framework-LatentSemanticMapping==8.1\n",
      "  Using cached pyobjc_framework_LatentSemanticMapping-8.1-py2.py3-none-any.whl (4.9 kB)\n",
      "Collecting pyobjc-framework-MetricKit==8.1\n",
      "  Downloading pyobjc_framework_MetricKit-8.1-cp38-cp38-macosx_10_9_x86_64.whl (6.0 kB)\n",
      "Collecting pyobjc-framework-DataDetection==8.1\n",
      "  Using cached pyobjc_framework_DataDetection-8.1-py2.py3-none-any.whl (2.9 kB)\n",
      "Collecting pyobjc-framework-AVFoundation==8.1\n",
      "  Downloading pyobjc_framework_AVFoundation-8.1-cp36-abi3-macosx_10_9_x86_64.whl (43 kB)\n",
      "\u001b[K     |████████████████████████████████| 43 kB 2.6 MB/s \n",
      "\u001b[?25hCollecting pyobjc-framework-IOSurface==8.1\n",
      "  Using cached pyobjc_framework_IOSurface-8.1-py2.py3-none-any.whl (4.3 kB)\n",
      "Collecting pyobjc-framework-AudioVideoBridging==8.1\n",
      "  Using cached pyobjc_framework_AudioVideoBridging-8.1-py2.py3-none-any.whl (6.1 kB)\n",
      "Collecting pyobjc-framework-ColorSync==8.1\n",
      "  Using cached pyobjc_framework_ColorSync-8.1-py2.py3-none-any.whl (5.4 kB)\n",
      "Collecting pyobjc-framework-IntentsUI==8.1\n",
      "  Downloading pyobjc_framework_IntentsUI-8.1-cp38-cp38-macosx_10_9_x86_64.whl (6.8 kB)\n",
      "Collecting pyobjc-framework-OpenDirectory==8.1\n",
      "  Using cached pyobjc_framework_OpenDirectory-8.1-py2.py3-none-any.whl (12 kB)\n",
      "Collecting pyobjc-framework-OSAKit==8.1\n",
      "  Using cached pyobjc_framework_OSAKit-8.1-py2.py3-none-any.whl (3.5 kB)\n",
      "Collecting pyobjc-framework-UniformTypeIdentifiers==8.1\n",
      "  Using cached pyobjc_framework_UniformTypeIdentifiers-8.1-py2.py3-none-any.whl (4.0 kB)\n",
      "Collecting pyobjc-framework-CoreText==8.1\n",
      "  Downloading pyobjc_framework_CoreText-8.1-cp38-cp38-macosx_10_9_x86_64.whl (24 kB)\n",
      "Collecting pyobjc-framework-Vision==8.1\n",
      "  Downloading pyobjc_framework_Vision-8.1-cp36-abi3-macosx_10_9_x86_64.whl (10.0 kB)\n",
      "Collecting pyobjc-framework-SafariServices==8.1\n",
      "  Downloading pyobjc_framework_SafariServices-8.1-cp36-abi3-macosx_10_9_x86_64.whl (6.0 kB)\n",
      "Collecting pyobjc-framework-Intents==8.1\n",
      "  Downloading pyobjc_framework_Intents-8.1-cp36-abi3-macosx_10_9_x86_64.whl (19 kB)\n",
      "Collecting pyobjc-framework-EventKit==8.1\n",
      "  Using cached pyobjc_framework_EventKit-8.1-py2.py3-none-any.whl (5.7 kB)\n",
      "Collecting pyobjc-framework-MultipeerConnectivity==8.1\n",
      "  Downloading pyobjc_framework_MultipeerConnectivity-8.1-cp36-abi3-macosx_10_9_x86_64.whl (9.0 kB)\n",
      "Collecting pyobjc-framework-CoreWLAN==8.1\n",
      "  Downloading pyobjc_framework_CoreWLAN-8.1-cp36-abi3-macosx_10_9_x86_64.whl (8.3 kB)\n",
      "Collecting pyobjc-framework-CoreSpotlight==8.1\n",
      "  Downloading pyobjc_framework_CoreSpotlight-8.1-cp36-abi3-macosx_10_9_x86_64.whl (7.2 kB)\n",
      "Collecting pyobjc-framework-CoreMediaIO==8.1\n",
      "  Downloading pyobjc_framework_CoreMediaIO-8.1-cp36-abi3-macosx_10_9_x86_64.whl (10 kB)\n",
      "Collecting pyobjc-framework-VideoToolbox==8.1\n",
      "  Downloading pyobjc_framework_VideoToolbox-8.1-cp36-abi3-macosx_10_9_x86_64.whl (9.7 kB)\n",
      "Collecting pyobjc-framework-ExecutionPolicy==8.1\n",
      "  Using cached pyobjc_framework_ExecutionPolicy-8.1-py2.py3-none-any.whl (3.2 kB)\n",
      "Collecting pyobjc-framework-MetalPerformanceShaders==8.1\n",
      "  Downloading pyobjc_framework_MetalPerformanceShaders-8.1-cp36-abi3-macosx_10_9_x86_64.whl (17 kB)\n",
      "Collecting pyobjc-framework-UserNotifications==8.1\n",
      "  Downloading pyobjc_framework_UserNotifications-8.1-cp36-abi3-macosx_10_9_x86_64.whl (7.5 kB)\n",
      "Collecting pyobjc-framework-FileProviderUI==8.1\n",
      "  Using cached pyobjc_framework_FileProviderUI-8.1-py2.py3-none-any.whl (3.1 kB)\n",
      "Collecting pyobjc-framework-ScreenSaver==8.1\n",
      "  Downloading pyobjc_framework_ScreenSaver-8.1-cp36-abi3-macosx_10_9_x86_64.whl (6.3 kB)\n",
      "Collecting pyobjc-framework-MediaPlayer==8.1\n",
      "  Using cached pyobjc_framework_MediaPlayer-8.1-py2.py3-none-any.whl (5.8 kB)\n",
      "Collecting pyobjc-framework-BusinessChat==8.1\n",
      "  Using cached pyobjc_framework_BusinessChat-8.1-py2.py3-none-any.whl (2.9 kB)\n",
      "Collecting pyobjc-framework-ScreenTime==8.1\n",
      "  Using cached pyobjc_framework_ScreenTime-8.1-py2.py3-none-any.whl (3.1 kB)\n",
      "Collecting pyobjc-framework-SystemExtensions==8.1\n",
      "  Downloading pyobjc_framework_SystemExtensions-8.1-cp36-abi3-macosx_10_9_x86_64.whl (6.6 kB)\n",
      "Collecting pyobjc-framework-Collaboration==8.1\n",
      "  Using cached pyobjc_framework_Collaboration-8.1-py2.py3-none-any.whl (4.4 kB)\n",
      "Collecting pyobjc-framework-SpriteKit==8.1\n",
      "  Downloading pyobjc_framework_SpriteKit-8.1-cp38-cp38-macosx_10_9_x86_64.whl (11 kB)\n",
      "Collecting pyobjc-framework-MapKit==8.1\n",
      "  Downloading pyobjc_framework_MapKit-8.1-cp36-abi3-macosx_10_9_x86_64.whl (15 kB)\n",
      "Collecting pyobjc-framework-AdServices==8.1\n",
      "  Using cached pyobjc_framework_AdServices-8.1-py2.py3-none-any.whl (3.0 kB)\n",
      "Collecting pyobjc-framework-iTunesLibrary==8.1\n",
      "  Using cached pyobjc_framework_iTunesLibrary-8.1-py2.py3-none-any.whl (4.5 kB)\n",
      "Collecting pyobjc-framework-MediaToolbox==8.1\n",
      "  Downloading pyobjc_framework_MediaToolbox-8.1-cp36-abi3-macosx_10_9_x86_64.whl (8.5 kB)\n",
      "Collecting pyobjc-framework-FSEvents==8.1\n",
      "  Downloading pyobjc_framework_FSEvents-8.1-cp36-abi3-macosx_10_9_x86_64.whl (9.1 kB)\n",
      "Collecting pyobjc-framework-GameplayKit==8.1\n",
      "  Downloading pyobjc_framework_GameplayKit-8.1-cp36-abi3-macosx_10_9_x86_64.whl (8.6 kB)\n",
      "Collecting pyobjc-framework-AdSupport==8.1\n",
      "  Using cached pyobjc_framework_AdSupport-8.1-py2.py3-none-any.whl (2.9 kB)\n",
      "Collecting pyobjc-framework-LocalAuthentication==8.1\n",
      "  Using cached pyobjc_framework_LocalAuthentication-8.1-py2.py3-none-any.whl (4.9 kB)\n",
      "Collecting pyobjc-framework-AutomaticAssessmentConfiguration==8.1\n",
      "  Downloading pyobjc_framework_AutomaticAssessmentConfiguration-8.1-cp36-abi3-macosx_10_9_x86_64.whl (6.4 kB)\n",
      "Collecting pyobjc-framework-SoundAnalysis==8.1\n",
      "  Using cached pyobjc_framework_SoundAnalysis-8.1-py2.py3-none-any.whl (3.4 kB)\n",
      "Collecting pyobjc-framework-SystemConfiguration==8.1\n",
      "  Downloading pyobjc_framework_SystemConfiguration-8.1-cp36-abi3-macosx_10_9_x86_64.whl (17 kB)\n",
      "Collecting pyobjc-framework-ExceptionHandling==8.1\n",
      "  Using cached pyobjc_framework_ExceptionHandling-8.1-py2.py3-none-any.whl (7.4 kB)\n",
      "Collecting pyobjc-framework-AddressBook==8.1\n",
      "  Downloading pyobjc_framework_AddressBook-8.1-cp36-abi3-macosx_10_9_x86_64.whl (11 kB)\n",
      "Collecting pyobjc-framework-ScriptingBridge==8.1\n",
      "  Downloading pyobjc_framework_ScriptingBridge-8.1-cp36-abi3-macosx_10_9_x86_64.whl (6.9 kB)\n",
      "Collecting pyobjc-framework-SyncServices==8.1\n",
      "  Downloading pyobjc_framework_SyncServices-8.1-cp36-abi3-macosx_10_9_x86_64.whl (10 kB)\n",
      "Collecting pyobjc-framework-LaunchServices==8.1\n",
      "  Using cached pyobjc_framework_LaunchServices-8.1-py2.py3-none-any.whl (3.3 kB)\n",
      "Collecting pyobjc-framework-NetworkExtension==8.1\n",
      "  Downloading pyobjc_framework_NetworkExtension-8.1-cp36-abi3-macosx_10_9_x86_64.whl (10 kB)\n",
      "Collecting pyobjc-framework-CoreAudioKit==8.1\n",
      "  Downloading pyobjc_framework_CoreAudioKit-8.1-cp36-abi3-macosx_10_9_x86_64.whl (5.7 kB)\n",
      "Collecting pyobjc-framework-SecurityFoundation==8.1\n",
      "  Using cached pyobjc_framework_SecurityFoundation-8.1-py2.py3-none-any.whl (3.1 kB)\n",
      "Collecting pyobjc-framework-CoreMotion==8.1\n",
      "  Using cached pyobjc_framework_CoreMotion-8.1-py2.py3-none-any.whl (4.5 kB)\n",
      "Collecting pyobjc-framework-SceneKit==8.1\n",
      "  Downloading pyobjc_framework_SceneKit-8.1-cp36-abi3-macosx_10_9_x86_64.whl (21 kB)\n",
      "Collecting pyobjc-framework-Accessibility==8.1\n",
      "  Downloading pyobjc_framework_Accessibility-8.1-cp36-abi3-macosx_10_9_x86_64.whl (7.0 kB)\n",
      "Collecting pyobjc-framework-CloudKit==8.1\n",
      "  Using cached pyobjc_framework_CloudKit-8.1-py2.py3-none-any.whl (7.6 kB)\n",
      "Collecting pyobjc-framework-AppleScriptKit==8.1\n",
      "  Using cached pyobjc_framework_AppleScriptKit-8.1-py2.py3-none-any.whl (3.8 kB)\n",
      "Collecting pyobjc-framework-MLCompute==8.1\n",
      "  Using cached pyobjc_framework_MLCompute-8.1-py2.py3-none-any.whl (5.9 kB)\n",
      "Collecting pyobjc-framework-Metal==8.1\n",
      "  Downloading pyobjc_framework_Metal-8.1-cp36-abi3-macosx_10_9_x86_64.whl (32 kB)\n",
      "Collecting pyobjc-framework-UserNotificationsUI==8.1\n",
      "  Using cached pyobjc_framework_UserNotificationsUI-8.1-py2.py3-none-any.whl (3.4 kB)\n",
      "Collecting pyobjc-framework-PencilKit==8.1\n",
      "  Using cached pyobjc_framework_PencilKit-8.1-py2.py3-none-any.whl (3.2 kB)\n",
      "Collecting pyobjc-framework-ImageCaptureCore==8.1\n",
      "  Downloading pyobjc_framework_ImageCaptureCore-8.1-cp36-abi3-macosx_10_9_x86_64.whl (12 kB)\n",
      "Collecting pyobjc-framework-CoreMedia==8.1\n",
      "  Downloading pyobjc_framework_CoreMedia-8.1-cp38-cp38-macosx_10_9_x86_64.whl (19 kB)\n",
      "Collecting pyobjc-framework-ReplayKit==8.1\n",
      "  Downloading pyobjc_framework_ReplayKit-8.1-cp36-abi3-macosx_10_9_x86_64.whl (7.1 kB)\n",
      "Collecting pyobjc-framework-SecurityInterface==8.1\n",
      "  Downloading pyobjc_framework_SecurityInterface-8.1-cp36-abi3-macosx_10_9_x86_64.whl (7.8 kB)\n",
      "Collecting pyobjc-framework-PreferencePanes==8.1\n",
      "  Using cached pyobjc_framework_PreferencePanes-8.1-py2.py3-none-any.whl (4.2 kB)\n",
      "Collecting pyobjc-framework-NaturalLanguage==8.1\n",
      "  Using cached pyobjc_framework_NaturalLanguage-8.1-py2.py3-none-any.whl (4.3 kB)\n",
      "Collecting pyobjc-framework-QuickLookThumbnailing==8.1\n",
      "  Using cached pyobjc_framework_QuickLookThumbnailing-8.1-py2.py3-none-any.whl (3.5 kB)\n",
      "Collecting pyobjc-framework-ApplicationServices==8.1\n",
      "  Downloading pyobjc_framework_ApplicationServices-8.1-cp38-cp38-macosx_10_9_x86_64.whl (22 kB)\n",
      "Collecting pyobjc-framework-Security==8.1\n",
      "  Downloading pyobjc_framework_Security-8.1-cp38-cp38-macosx_10_9_x86_64.whl (32 kB)\n",
      "Collecting pyobjc-framework-PhotosUI==8.1\n",
      "  Downloading pyobjc_framework_PhotosUI-8.1-cp36-abi3-macosx_10_9_x86_64.whl (8.0 kB)\n",
      "Collecting pyobjc-framework-CryptoTokenKit==8.1\n",
      "  Downloading pyobjc_framework_CryptoTokenKit-8.1-cp36-abi3-macosx_10_9_x86_64.whl (9.4 kB)\n",
      "Collecting pyobjc-framework-PassKit==8.1\n",
      "  Downloading pyobjc_framework_PassKit-8.1-cp36-abi3-macosx_10_9_x86_64.whl (9.1 kB)\n",
      "Collecting pyobjc-framework-KernelManagement==8.1\n",
      "  Using cached pyobjc_framework_KernelManagement-8.1-py2.py3-none-any.whl (3.2 kB)\n",
      "Collecting pyobjc-framework-CoreAudio==8.1\n",
      "  Downloading pyobjc_framework_CoreAudio-8.1-cp38-cp38-macosx_10_9_x86_64.whl (24 kB)\n",
      "Collecting pyobjc-framework-CoreMIDI==8.1\n",
      "  Downloading pyobjc_framework_CoreMIDI-8.1-cp36-abi3-macosx_10_9_x86_64.whl (12 kB)\n",
      "Collecting pyobjc-framework-Virtualization==8.1\n",
      "  Downloading pyobjc_framework_Virtualization-8.1-cp36-abi3-macosx_10_9_x86_64.whl (6.7 kB)\n",
      "Collecting pyobjc-framework-DiscRecordingUI==8.1\n",
      "  Using cached pyobjc_framework_DiscRecordingUI-8.1-py2.py3-none-any.whl (4.2 kB)\n",
      "Collecting pyobjc-framework-CallKit==8.1\n",
      "  Using cached pyobjc_framework_CallKit-8.1-py2.py3-none-any.whl (4.3 kB)\n",
      "Collecting pyobjc-framework-GameCenter==8.1\n",
      "  Downloading pyobjc_framework_GameCenter-8.1-cp36-abi3-macosx_10_9_x86_64.whl (12 kB)\n",
      "Collecting pyobjc-framework-CoreBluetooth==8.1\n",
      "  Downloading pyobjc_framework_CoreBluetooth-8.1-cp36-abi3-macosx_10_9_x86_64.whl (10.0 kB)\n",
      "Collecting pyobjc-framework-InputMethodKit==8.1\n",
      "  Downloading pyobjc_framework_InputMethodKit-8.1-cp36-abi3-macosx_10_9_x86_64.whl (7.7 kB)\n",
      "Collecting pyobjc-framework-DiscRecording==8.1\n",
      "  Downloading pyobjc_framework_DiscRecording-8.1-cp36-abi3-macosx_10_9_x86_64.whl (12 kB)\n",
      "Collecting pyobjc-framework-Photos==8.1\n",
      "  Downloading pyobjc_framework_Photos-8.1-cp36-abi3-macosx_10_9_x86_64.whl (9.2 kB)\n",
      "Collecting pyobjc-framework-CoreServices==8.1\n",
      "  Downloading pyobjc_framework_CoreServices-8.1-cp36-abi3-macosx_10_9_x86_64.whl (27 kB)\n",
      "Collecting pyobjc-framework-ExternalAccessory==8.1\n",
      "  Downloading pyobjc_framework_ExternalAccessory-8.1-cp36-abi3-macosx_10_9_x86_64.whl (6.7 kB)\n",
      "Collecting pyobjc-framework-StoreKit==8.1\n",
      "  Downloading pyobjc_framework_StoreKit-8.1-cp36-abi3-macosx_10_9_x86_64.whl (8.6 kB)\n",
      "Collecting pyobjc-framework-MailKit==8.1\n",
      "  Using cached pyobjc_framework_MailKit-8.1-py2.py3-none-any.whl (3.9 kB)\n",
      "Collecting pyobjc-framework-LinkPresentation==8.1\n",
      "  Using cached pyobjc_framework_LinkPresentation-8.1-py2.py3-none-any.whl (3.2 kB)\n",
      "Collecting pyobjc-framework-NetFS==8.1\n",
      "  Using cached pyobjc_framework_NetFS-8.1-py2.py3-none-any.whl (3.7 kB)\n",
      "Collecting pyobjc-framework-MetalPerformanceShadersGraph==8.1\n",
      "  Using cached pyobjc_framework_MetalPerformanceShadersGraph-8.1-py2.py3-none-any.whl (4.5 kB)\n",
      "Collecting pyobjc-framework-Network==8.1\n",
      "  Downloading pyobjc_framework_Network-8.1-cp36-abi3-macosx_10_9_x86_64.whl (14 kB)\n",
      "Collecting pyobjc-framework-AVKit==8.1\n",
      "  Downloading pyobjc_framework_AVKit-8.1-cp36-abi3-macosx_10_9_x86_64.whl (8.2 kB)\n",
      "Collecting pyobjc-framework-Quartz==8.1\n",
      "  Downloading pyobjc_framework_Quartz-8.1-cp38-cp38-macosx_10_9_x86_64.whl (143 kB)\n",
      "\u001b[K     |████████████████████████████████| 143 kB 3.1 MB/s \n",
      "\u001b[?25hCollecting pyobjc-framework-ModelIO==8.1\n",
      "  Downloading pyobjc_framework_ModelIO-8.1-cp36-abi3-macosx_10_9_x86_64.whl (13 kB)\n",
      "Collecting pyobjc-framework-CoreML==8.1\n",
      "  Downloading pyobjc_framework_CoreML-8.1-cp36-abi3-macosx_10_9_x86_64.whl (8.3 kB)\n",
      "Collecting pyobjc-framework-DVDPlayback==8.1\n",
      "  Using cached pyobjc_framework_DVDPlayback-8.1-py2.py3-none-any.whl (7.6 kB)\n",
      "Collecting pyobjc-framework-InstantMessage==8.1\n",
      "  Using cached pyobjc_framework_InstantMessage-8.1-py2.py3-none-any.whl (4.9 kB)\n",
      "Collecting pyobjc-framework-Accounts==8.1\n",
      "  Using cached pyobjc_framework_Accounts-8.1-py2.py3-none-any.whl (4.5 kB)\n",
      "Collecting pyobjc-framework-ShazamKit==8.1\n",
      "  Downloading pyobjc_framework_ShazamKit-8.1-cp38-cp38-macosx_10_9_x86_64.whl (6.4 kB)\n",
      "Collecting pyobjc-framework-NotificationCenter==8.1\n",
      "  Downloading pyobjc_framework_NotificationCenter-8.1-cp36-abi3-macosx_10_9_x86_64.whl (7.4 kB)\n",
      "Collecting pyobjc-framework-CoreLocation==8.1\n",
      "  Downloading pyobjc_framework_CoreLocation-8.1-cp36-abi3-macosx_10_9_x86_64.whl (9.5 kB)\n",
      "Collecting pyobjc-framework-GameController==8.1\n",
      "  Downloading pyobjc_framework_GameController-8.1-cp36-abi3-macosx_10_9_x86_64.whl (8.9 kB)\n",
      "Collecting pyobjc-framework-CFNetwork==8.1\n",
      "  Downloading pyobjc_framework_CFNetwork-8.1-cp36-abi3-macosx_10_9_x86_64.whl (12 kB)\n",
      "Collecting pyobjc-framework-Social==8.1\n",
      "  Using cached pyobjc_framework_Social-8.1-py2.py3-none-any.whl (3.9 kB)\n",
      "Collecting pyobjc-framework-VideoSubscriberAccount==8.1\n",
      "  Using cached pyobjc_framework_VideoSubscriberAccount-8.1-py2.py3-none-any.whl (3.7 kB)\n",
      "Collecting pyobjc-framework-Speech==8.1\n",
      "  Downloading pyobjc_framework_Speech-8.1-cp36-abi3-macosx_10_9_x86_64.whl (6.6 kB)\n",
      "Building wheels for collected packages: pyautogui, pygetwindow, pyscreeze, PyTweening, mouseinfo, pymsgbox, pyperclip, pyrect\n",
      "  Building wheel for pyautogui (setup.py) ... \u001b[?25ldone\n",
      "\u001b[?25h  Created wheel for pyautogui: filename=PyAutoGUI-0.9.53-py3-none-any.whl size=36583 sha256=58cf777e9283a8f5e37b85d29d62a0c4b545bc7dcd23e40b4f499b8428e5e59a\n",
      "  Stored in directory: /Users/Han-woojin/Library/Caches/pip/wheels/54/04/f7/55704a9d374ed923785a4fdc0ef00151fa25306b3b93345532\n",
      "  Building wheel for pygetwindow (setup.py) ... \u001b[?25ldone\n",
      "\u001b[?25h  Created wheel for pygetwindow: filename=PyGetWindow-0.0.9-py3-none-any.whl size=11078 sha256=68b184a5046e0ab17a6536742b1f05b473c0f47c553ea854ab4fe5764733799a\n",
      "  Stored in directory: /Users/Han-woojin/Library/Caches/pip/wheels/91/e3/04/184bda98ec7f7d5f0ba1f372bcf7b3ba86325151ae1dd690fe\n",
      "  Building wheel for pyscreeze (PEP 517) ... \u001b[?25ldone\n",
      "\u001b[?25h  Created wheel for pyscreeze: filename=PyScreeze-0.1.28-py3-none-any.whl size=13023 sha256=6cc34e60ee261951425f45edd4afdf984cdc353d7aadf3fe03bdbc10b1a885f6\n",
      "  Stored in directory: /Users/Han-woojin/Library/Caches/pip/wheels/b1/b0/5c/9fb5beb2d6c708479a670e92f4ab3b54523a15c9cd4a46e24e\n",
      "  Building wheel for PyTweening (setup.py) ... \u001b[?25ldone\n",
      "\u001b[?25h  Created wheel for PyTweening: filename=pytweening-1.0.4-py3-none-any.whl size=5825 sha256=0333aa875b28319f8625142c3fb218b086f2d3a5ddef56edd46b7da2c66d02bb\n",
      "  Stored in directory: /Users/Han-woojin/Library/Caches/pip/wheels/a2/1b/69/dc477653ccc19228bf53af76c623e4e82e5dc1b6f78d5c4d35\n",
      "  Building wheel for mouseinfo (setup.py) ... \u001b[?25ldone\n",
      "\u001b[?25h  Created wheel for mouseinfo: filename=MouseInfo-0.1.3-py3-none-any.whl size=10905 sha256=5792fa13a5374a610eff6c1f6bca09be5d3907e375e148ebe65c49dba9f0da39\n",
      "  Stored in directory: /Users/Han-woojin/Library/Caches/pip/wheels/d1/72/fb/35f403de66285df8ecca7049bcc61bfb57aba0f76d1f08f7eb\n",
      "  Building wheel for pymsgbox (PEP 517) ... \u001b[?25ldone\n",
      "\u001b[?25h  Created wheel for pymsgbox: filename=PyMsgBox-1.0.9-py3-none-any.whl size=7420 sha256=13d0b0eff9a4e0f9f5e7c2a88b538b97cd3e791d4e40863493e631549c5f7b04\n",
      "  Stored in directory: /Users/Han-woojin/Library/Caches/pip/wheels/91/28/0d/f4eb606d38276836237d6dc2abf094241e6db5682a126e0389\n",
      "  Building wheel for pyperclip (setup.py) ... \u001b[?25ldone\n",
      "\u001b[?25h  Created wheel for pyperclip: filename=pyperclip-1.8.2-py3-none-any.whl size=11107 sha256=5c9137b5ac5655142bd286adc21bff42ed0256767c7f6c322baf0d28afafb062\n",
      "  Stored in directory: /Users/Han-woojin/Library/Caches/pip/wheels/7f/1a/65/84ff8c386bec21fca6d220ea1f5498a0367883a78dd5ba6122\n",
      "  Building wheel for pyrect (setup.py) ... \u001b[?25ldone\n",
      "\u001b[?25h  Created wheel for pyrect: filename=PyRect-0.1.4-py2.py3-none-any.whl size=9547 sha256=33a8ee3d426b3d3fe93f69c83da28911f596be5a291233aceafdd867ffa77c6d\n",
      "  Stored in directory: /Users/Han-woojin/Library/Caches/pip/wheels/d1/e4/47/c62f8291b16b6df7e89ac885881ff71f35ca04c6e384251de9\n",
      "Successfully built pyautogui pygetwindow pyscreeze PyTweening mouseinfo pymsgbox pyperclip pyrect\n",
      "Installing collected packages: pyobjc-core, pyobjc-framework-Cocoa, pyobjc-framework-Security, pyobjc-framework-Quartz, pyobjc-framework-Metal, pyobjc-framework-FSEvents, pyobjc-framework-CoreMedia, pyobjc-framework-CoreAudio, pyobjc-framework-UserNotifications, pyobjc-framework-SpriteKit, pyobjc-framework-MetalPerformanceShaders, pyobjc-framework-LocalAuthentication, pyobjc-framework-Intents, pyobjc-framework-FileProvider, pyobjc-framework-DiscRecording, pyobjc-framework-CoreServices, pyobjc-framework-CoreML, pyobjc-framework-CoreLocation, pyobjc-framework-CoreData, pyobjc-framework-Contacts, pyobjc-framework-AVFoundation, pyobjc-framework-Accounts, rubicon-objc, pyrect, pyperclip, pyobjc-framework-WebKit, pyobjc-framework-Vision, pyobjc-framework-Virtualization, pyobjc-framework-VideoToolbox, pyobjc-framework-VideoSubscriberAccount, pyobjc-framework-UserNotificationsUI, pyobjc-framework-UniformTypeIdentifiers, pyobjc-framework-SystemExtensions, pyobjc-framework-SystemConfiguration, pyobjc-framework-SyncServices, pyobjc-framework-StoreKit, pyobjc-framework-Speech, pyobjc-framework-SoundAnalysis, pyobjc-framework-Social, pyobjc-framework-ShazamKit, pyobjc-framework-ServiceManagement, pyobjc-framework-SecurityInterface, pyobjc-framework-SecurityFoundation, pyobjc-framework-SearchKit, pyobjc-framework-ScriptingBridge, pyobjc-framework-ScreenTime, pyobjc-framework-ScreenSaver, pyobjc-framework-SceneKit, pyobjc-framework-SafariServices, pyobjc-framework-ReplayKit, pyobjc-framework-QuickLookThumbnailing, pyobjc-framework-PushKit, pyobjc-framework-PreferencePanes, pyobjc-framework-PhotosUI, pyobjc-framework-Photos, pyobjc-framework-PencilKit, pyobjc-framework-PassKit, pyobjc-framework-OSLog, pyobjc-framework-OSAKit, pyobjc-framework-OpenDirectory, pyobjc-framework-NotificationCenter, pyobjc-framework-NetworkExtension, pyobjc-framework-Network, pyobjc-framework-NetFS, pyobjc-framework-NaturalLanguage, pyobjc-framework-MultipeerConnectivity, pyobjc-framework-ModelIO, pyobjc-framework-MLCompute, pyobjc-framework-MetricKit, pyobjc-framework-MetalPerformanceShadersGraph, pyobjc-framework-MetalKit, pyobjc-framework-MediaToolbox, pyobjc-framework-MediaPlayer, pyobjc-framework-MediaLibrary, pyobjc-framework-MediaAccessibility, pyobjc-framework-MapKit, pyobjc-framework-MailKit, pyobjc-framework-LocalAuthenticationEmbeddedUI, pyobjc-framework-LinkPresentation, pyobjc-framework-libdispatch, pyobjc-framework-LaunchServices, pyobjc-framework-LatentSemanticMapping, pyobjc-framework-KernelManagement, pyobjc-framework-iTunesLibrary, pyobjc-framework-IOSurface, pyobjc-framework-IntentsUI, pyobjc-framework-InstantMessage, pyobjc-framework-InstallerPlugins, pyobjc-framework-InputMethodKit, pyobjc-framework-IMServicePlugIn, pyobjc-framework-ImageCaptureCore, pyobjc-framework-GameplayKit, pyobjc-framework-GameKit, pyobjc-framework-GameController, pyobjc-framework-GameCenter, pyobjc-framework-FinderSync, pyobjc-framework-FileProviderUI, pyobjc-framework-ExternalAccessory, pyobjc-framework-ExecutionPolicy, pyobjc-framework-ExceptionHandling, pyobjc-framework-EventKit, pyobjc-framework-DVDPlayback, pyobjc-framework-DiskArbitration, pyobjc-framework-DiscRecordingUI, pyobjc-framework-DictionaryServices, pyobjc-framework-DeviceCheck, pyobjc-framework-DataDetection, pyobjc-framework-CryptoTokenKit, pyobjc-framework-CoreWLAN, pyobjc-framework-CoreText, pyobjc-framework-CoreSpotlight, pyobjc-framework-CoreMotion, pyobjc-framework-CoreMIDI, pyobjc-framework-CoreMediaIO, pyobjc-framework-CoreHaptics, pyobjc-framework-CoreBluetooth, pyobjc-framework-CoreAudioKit, pyobjc-framework-ContactsUI, pyobjc-framework-ColorSync, pyobjc-framework-Collaboration, pyobjc-framework-CloudKit, pyobjc-framework-ClassKit, pyobjc-framework-CFNetwork, pyobjc-framework-CallKit, pyobjc-framework-CalendarStore, pyobjc-framework-BusinessChat, pyobjc-framework-AVKit, pyobjc-framework-Automator, pyobjc-framework-AutomaticAssessmentConfiguration, pyobjc-framework-AuthenticationServices, pyobjc-framework-AudioVideoBridging, pyobjc-framework-AppTrackingTransparency, pyobjc-framework-ApplicationServices, pyobjc-framework-AppleScriptObjC, pyobjc-framework-AppleScriptKit, pyobjc-framework-AdSupport, pyobjc-framework-AdServices, pyobjc-framework-AddressBook, pyobjc-framework-Accessibility, PyTweening, pyscreeze, pyobjc, pymsgbox, pygetwindow, mouseinfo, pyautogui\n",
      "Successfully installed PyTweening-1.0.4 mouseinfo-0.1.3 pyautogui-0.9.53 pygetwindow-0.0.9 pymsgbox-1.0.9 pyobjc-8.1 pyobjc-core-8.1 pyobjc-framework-AVFoundation-8.1 pyobjc-framework-AVKit-8.1 pyobjc-framework-Accessibility-8.1 pyobjc-framework-Accounts-8.1 pyobjc-framework-AdServices-8.1 pyobjc-framework-AdSupport-8.1 pyobjc-framework-AddressBook-8.1 pyobjc-framework-AppTrackingTransparency-8.1 pyobjc-framework-AppleScriptKit-8.1 pyobjc-framework-AppleScriptObjC-8.1 pyobjc-framework-ApplicationServices-8.1 pyobjc-framework-AudioVideoBridging-8.1 pyobjc-framework-AuthenticationServices-8.1 pyobjc-framework-AutomaticAssessmentConfiguration-8.1 pyobjc-framework-Automator-8.1 pyobjc-framework-BusinessChat-8.1 pyobjc-framework-CFNetwork-8.1 pyobjc-framework-CalendarStore-8.1 pyobjc-framework-CallKit-8.1 pyobjc-framework-ClassKit-8.1 pyobjc-framework-CloudKit-8.1 pyobjc-framework-Cocoa-8.1 pyobjc-framework-Collaboration-8.1 pyobjc-framework-ColorSync-8.1 pyobjc-framework-Contacts-8.1 pyobjc-framework-ContactsUI-8.1 pyobjc-framework-CoreAudio-8.1 pyobjc-framework-CoreAudioKit-8.1 pyobjc-framework-CoreBluetooth-8.1 pyobjc-framework-CoreData-8.1 pyobjc-framework-CoreHaptics-8.1 pyobjc-framework-CoreLocation-8.1 pyobjc-framework-CoreMIDI-8.1 pyobjc-framework-CoreML-8.1 pyobjc-framework-CoreMedia-8.1 pyobjc-framework-CoreMediaIO-8.1 pyobjc-framework-CoreMotion-8.1 pyobjc-framework-CoreServices-8.1 pyobjc-framework-CoreSpotlight-8.1 pyobjc-framework-CoreText-8.1 pyobjc-framework-CoreWLAN-8.1 pyobjc-framework-CryptoTokenKit-8.1 pyobjc-framework-DVDPlayback-8.1 pyobjc-framework-DataDetection-8.1 pyobjc-framework-DeviceCheck-8.1 pyobjc-framework-DictionaryServices-8.1 pyobjc-framework-DiscRecording-8.1 pyobjc-framework-DiscRecordingUI-8.1 pyobjc-framework-DiskArbitration-8.1 pyobjc-framework-EventKit-8.1 pyobjc-framework-ExceptionHandling-8.1 pyobjc-framework-ExecutionPolicy-8.1 pyobjc-framework-ExternalAccessory-8.1 pyobjc-framework-FSEvents-8.1 pyobjc-framework-FileProvider-8.1 pyobjc-framework-FileProviderUI-8.1 pyobjc-framework-FinderSync-8.1 pyobjc-framework-GameCenter-8.1 pyobjc-framework-GameController-8.1 pyobjc-framework-GameKit-8.1 pyobjc-framework-GameplayKit-8.1 pyobjc-framework-IMServicePlugIn-8.1 pyobjc-framework-IOSurface-8.1 pyobjc-framework-ImageCaptureCore-8.1 pyobjc-framework-InputMethodKit-8.1 pyobjc-framework-InstallerPlugins-8.1 pyobjc-framework-InstantMessage-8.1 pyobjc-framework-Intents-8.1 pyobjc-framework-IntentsUI-8.1 pyobjc-framework-KernelManagement-8.1 pyobjc-framework-LatentSemanticMapping-8.1 pyobjc-framework-LaunchServices-8.1 pyobjc-framework-LinkPresentation-8.1 pyobjc-framework-LocalAuthentication-8.1 pyobjc-framework-LocalAuthenticationEmbeddedUI-8.1 pyobjc-framework-MLCompute-8.1 pyobjc-framework-MailKit-8.1 pyobjc-framework-MapKit-8.1 pyobjc-framework-MediaAccessibility-8.1 pyobjc-framework-MediaLibrary-8.1 pyobjc-framework-MediaPlayer-8.1 pyobjc-framework-MediaToolbox-8.1 pyobjc-framework-Metal-8.1 pyobjc-framework-MetalKit-8.1 pyobjc-framework-MetalPerformanceShaders-8.1 pyobjc-framework-MetalPerformanceShadersGraph-8.1 pyobjc-framework-MetricKit-8.1 pyobjc-framework-ModelIO-8.1 pyobjc-framework-MultipeerConnectivity-8.1 pyobjc-framework-NaturalLanguage-8.1 pyobjc-framework-NetFS-8.1 pyobjc-framework-Network-8.1 pyobjc-framework-NetworkExtension-8.1 pyobjc-framework-NotificationCenter-8.1 pyobjc-framework-OSAKit-8.1 pyobjc-framework-OSLog-8.1 pyobjc-framework-OpenDirectory-8.1 pyobjc-framework-PassKit-8.1 pyobjc-framework-PencilKit-8.1 pyobjc-framework-Photos-8.1 pyobjc-framework-PhotosUI-8.1 pyobjc-framework-PreferencePanes-8.1 pyobjc-framework-PushKit-8.1 pyobjc-framework-Quartz-8.1 pyobjc-framework-QuickLookThumbnailing-8.1 pyobjc-framework-ReplayKit-8.1 pyobjc-framework-SafariServices-8.1 pyobjc-framework-SceneKit-8.1 pyobjc-framework-ScreenSaver-8.1 pyobjc-framework-ScreenTime-8.1 pyobjc-framework-ScriptingBridge-8.1 pyobjc-framework-SearchKit-8.1 pyobjc-framework-Security-8.1 pyobjc-framework-SecurityFoundation-8.1 pyobjc-framework-SecurityInterface-8.1 pyobjc-framework-ServiceManagement-8.1 pyobjc-framework-ShazamKit-8.1 pyobjc-framework-Social-8.1 pyobjc-framework-SoundAnalysis-8.1 pyobjc-framework-Speech-8.1 pyobjc-framework-SpriteKit-8.1 pyobjc-framework-StoreKit-8.1 pyobjc-framework-SyncServices-8.1 pyobjc-framework-SystemConfiguration-8.1 pyobjc-framework-SystemExtensions-8.1 pyobjc-framework-UniformTypeIdentifiers-8.1 pyobjc-framework-UserNotifications-8.1 pyobjc-framework-UserNotificationsUI-8.1 pyobjc-framework-VideoSubscriberAccount-8.1 pyobjc-framework-VideoToolbox-8.1 pyobjc-framework-Virtualization-8.1 pyobjc-framework-Vision-8.1 pyobjc-framework-WebKit-8.1 pyobjc-framework-iTunesLibrary-8.1 pyobjc-framework-libdispatch-8.1 pyperclip-1.8.2 pyrect-0.1.4 pyscreeze-0.1.28 rubicon-objc-0.4.2\n",
      "Note: you may need to restart the kernel to use updated packages.\n"
     ]
    }
   ],
   "source": [
    "pip install pyautogui"
   ]
  },
  {
   "cell_type": "code",
   "execution_count": null,
   "metadata": {},
   "outputs": [],
   "source": [
    "import pyautogui as pag"
   ]
  },
  {
   "cell_type": "code",
   "execution_count": null,
   "metadata": {},
   "outputs": [
    {
     "name": "stdout",
     "output_type": "stream",
     "text": [
      "Point(x=1082, y=-593)\n"
     ]
    }
   ],
   "source": [
    "login_btn = pag.position()\n",
    "print(login_btn)"
   ]
  },
  {
   "cell_type": "code",
   "execution_count": null,
   "metadata": {},
   "outputs": [],
   "source": [
    "pag.click(login_btn)"
   ]
  },
  {
   "cell_type": "code",
   "execution_count": null,
   "metadata": {},
   "outputs": [],
   "source": [
    "pag.click(login_btn)\n",
    "pag.click(login_btn)\n",
    "pag.click(login)\n"
   ]
  },
  {
   "cell_type": "markdown",
   "metadata": {},
   "source": []
  },
  {
   "cell_type": "code",
   "execution_count": null,
   "metadata": {},
   "outputs": [],
   "source": [
    "login = pag.position"
   ]
  },
  {
   "cell_type": "code",
   "execution_count": null,
   "metadata": {},
   "outputs": [
    {
     "ename": "TypeError",
     "evalue": "int() argument must be a string, a bytes-like object or a number, not 'function'",
     "output_type": "error",
     "traceback": [
      "\u001b[0;31m---------------------------------------------------------------------------\u001b[0m",
      "\u001b[0;31mTypeError\u001b[0m                                 Traceback (most recent call last)",
      "\u001b[0;32m<ipython-input-19-914f654571ea>\u001b[0m in \u001b[0;36m<module>\u001b[0;34m\u001b[0m\n\u001b[1;32m      1\u001b[0m \u001b[0mpag\u001b[0m\u001b[0;34m.\u001b[0m\u001b[0mclick\u001b[0m\u001b[0;34m(\u001b[0m\u001b[0mlogin_btn\u001b[0m\u001b[0;34m)\u001b[0m\u001b[0;34m\u001b[0m\u001b[0;34m\u001b[0m\u001b[0m\n\u001b[1;32m      2\u001b[0m \u001b[0mpag\u001b[0m\u001b[0;34m.\u001b[0m\u001b[0mclick\u001b[0m\u001b[0;34m(\u001b[0m\u001b[0mlogin_btn\u001b[0m\u001b[0;34m)\u001b[0m\u001b[0;34m\u001b[0m\u001b[0;34m\u001b[0m\u001b[0m\n\u001b[0;32m----> 3\u001b[0;31m \u001b[0mpag\u001b[0m\u001b[0;34m.\u001b[0m\u001b[0mclick\u001b[0m\u001b[0;34m(\u001b[0m\u001b[0mlogin\u001b[0m\u001b[0;34m)\u001b[0m\u001b[0;34m\u001b[0m\u001b[0;34m\u001b[0m\u001b[0m\n\u001b[0m",
      "\u001b[0;32m/Library/Python/anaconda3/lib/python3.8/site-packages/pyautogui/__init__.py\u001b[0m in \u001b[0;36mwrapper\u001b[0;34m(*args, **kwargs)\u001b[0m\n\u001b[1;32m    596\u001b[0m     \u001b[0;32mdef\u001b[0m \u001b[0mwrapper\u001b[0m\u001b[0;34m(\u001b[0m\u001b[0;34m*\u001b[0m\u001b[0margs\u001b[0m\u001b[0;34m,\u001b[0m \u001b[0;34m**\u001b[0m\u001b[0mkwargs\u001b[0m\u001b[0;34m)\u001b[0m\u001b[0;34m:\u001b[0m\u001b[0;34m\u001b[0m\u001b[0;34m\u001b[0m\u001b[0m\n\u001b[1;32m    597\u001b[0m         \u001b[0mfailSafeCheck\u001b[0m\u001b[0;34m(\u001b[0m\u001b[0;34m)\u001b[0m\u001b[0;34m\u001b[0m\u001b[0;34m\u001b[0m\u001b[0m\n\u001b[0;32m--> 598\u001b[0;31m         \u001b[0mreturnVal\u001b[0m \u001b[0;34m=\u001b[0m \u001b[0mwrappedFunction\u001b[0m\u001b[0;34m(\u001b[0m\u001b[0;34m*\u001b[0m\u001b[0margs\u001b[0m\u001b[0;34m,\u001b[0m \u001b[0;34m**\u001b[0m\u001b[0mkwargs\u001b[0m\u001b[0;34m)\u001b[0m\u001b[0;34m\u001b[0m\u001b[0;34m\u001b[0m\u001b[0m\n\u001b[0m\u001b[1;32m    599\u001b[0m         \u001b[0m_handlePause\u001b[0m\u001b[0;34m(\u001b[0m\u001b[0mkwargs\u001b[0m\u001b[0;34m.\u001b[0m\u001b[0mget\u001b[0m\u001b[0;34m(\u001b[0m\u001b[0;34m\"_pause\"\u001b[0m\u001b[0;34m,\u001b[0m \u001b[0;32mTrue\u001b[0m\u001b[0;34m)\u001b[0m\u001b[0;34m)\u001b[0m\u001b[0;34m\u001b[0m\u001b[0;34m\u001b[0m\u001b[0m\n\u001b[1;32m    600\u001b[0m         \u001b[0;32mreturn\u001b[0m \u001b[0mreturnVal\u001b[0m\u001b[0;34m\u001b[0m\u001b[0;34m\u001b[0m\u001b[0m\n",
      "\u001b[0;32m/Library/Python/anaconda3/lib/python3.8/site-packages/pyautogui/__init__.py\u001b[0m in \u001b[0;36mclick\u001b[0;34m(x, y, clicks, interval, button, duration, tween, logScreenshot, _pause)\u001b[0m\n\u001b[1;32m    978\u001b[0m     \u001b[0;31m# TODO: I'm leaving buttons 4, 5, 6, and 7 undocumented for now. I need to understand how they work.\u001b[0m\u001b[0;34m\u001b[0m\u001b[0;34m\u001b[0m\u001b[0;34m\u001b[0m\u001b[0m\n\u001b[1;32m    979\u001b[0m     \u001b[0mbutton\u001b[0m \u001b[0;34m=\u001b[0m \u001b[0m_normalizeButton\u001b[0m\u001b[0;34m(\u001b[0m\u001b[0mbutton\u001b[0m\u001b[0;34m)\u001b[0m\u001b[0;34m\u001b[0m\u001b[0;34m\u001b[0m\u001b[0m\n\u001b[0;32m--> 980\u001b[0;31m     \u001b[0mx\u001b[0m\u001b[0;34m,\u001b[0m \u001b[0my\u001b[0m \u001b[0;34m=\u001b[0m \u001b[0m_normalizeXYArgs\u001b[0m\u001b[0;34m(\u001b[0m\u001b[0mx\u001b[0m\u001b[0;34m,\u001b[0m \u001b[0my\u001b[0m\u001b[0;34m)\u001b[0m\u001b[0;34m\u001b[0m\u001b[0;34m\u001b[0m\u001b[0m\n\u001b[0m\u001b[1;32m    981\u001b[0m \u001b[0;34m\u001b[0m\u001b[0m\n\u001b[1;32m    982\u001b[0m     \u001b[0;31m# Move the mouse cursor to the x, y coordinate:\u001b[0m\u001b[0;34m\u001b[0m\u001b[0;34m\u001b[0m\u001b[0;34m\u001b[0m\u001b[0m\n",
      "\u001b[0;32m/Library/Python/anaconda3/lib/python3.8/site-packages/pyautogui/__init__.py\u001b[0m in \u001b[0;36m_normalizeXYArgs\u001b[0;34m(firstArg, secondArg)\u001b[0m\n\u001b[1;32m    699\u001b[0m             )\n\u001b[1;32m    700\u001b[0m     \u001b[0;32melse\u001b[0m\u001b[0;34m:\u001b[0m\u001b[0;34m\u001b[0m\u001b[0;34m\u001b[0m\u001b[0m\n\u001b[0;32m--> 701\u001b[0;31m         \u001b[0;32mreturn\u001b[0m \u001b[0mPoint\u001b[0m\u001b[0;34m(\u001b[0m\u001b[0mint\u001b[0m\u001b[0;34m(\u001b[0m\u001b[0mfirstArg\u001b[0m\u001b[0;34m)\u001b[0m\u001b[0;34m,\u001b[0m \u001b[0mint\u001b[0m\u001b[0;34m(\u001b[0m\u001b[0msecondArg\u001b[0m\u001b[0;34m)\u001b[0m\u001b[0;34m)\u001b[0m  \u001b[0;31m# firstArg and secondArg are just x and y number values\u001b[0m\u001b[0;34m\u001b[0m\u001b[0;34m\u001b[0m\u001b[0m\n\u001b[0m\u001b[1;32m    702\u001b[0m \u001b[0;34m\u001b[0m\u001b[0m\n\u001b[1;32m    703\u001b[0m \u001b[0;34m\u001b[0m\u001b[0m\n",
      "\u001b[0;31mTypeError\u001b[0m: int() argument must be a string, a bytes-like object or a number, not 'function'"
     ]
    }
   ],
   "source": [
    "pag.click(login_btn)\n",
    "pag.click(login_btn)\n"
   ]
  },
  {
   "cell_type": "code",
   "execution_count": null,
   "metadata": {},
   "outputs": [
    {
     "ename": "TypeError",
     "evalue": "int() argument must be a string, a bytes-like object or a number, not 'function'",
     "output_type": "error",
     "traceback": [
      "\u001b[0;31m---------------------------------------------------------------------------\u001b[0m",
      "\u001b[0;31mTypeError\u001b[0m                                 Traceback (most recent call last)",
      "\u001b[0;32m<ipython-input-20-464353ae9b21>\u001b[0m in \u001b[0;36m<module>\u001b[0;34m\u001b[0m\n\u001b[0;32m----> 1\u001b[0;31m \u001b[0mpag\u001b[0m\u001b[0;34m.\u001b[0m\u001b[0mclick\u001b[0m\u001b[0;34m(\u001b[0m\u001b[0mlogin\u001b[0m\u001b[0;34m)\u001b[0m\u001b[0;34m\u001b[0m\u001b[0;34m\u001b[0m\u001b[0m\n\u001b[0m\u001b[1;32m      2\u001b[0m \u001b[0mpag\u001b[0m\u001b[0;34m.\u001b[0m\u001b[0mclick\u001b[0m\u001b[0;34m(\u001b[0m\u001b[0mlogin\u001b[0m\u001b[0;34m)\u001b[0m\u001b[0;34m\u001b[0m\u001b[0;34m\u001b[0m\u001b[0m\n",
      "\u001b[0;32m/Library/Python/anaconda3/lib/python3.8/site-packages/pyautogui/__init__.py\u001b[0m in \u001b[0;36mwrapper\u001b[0;34m(*args, **kwargs)\u001b[0m\n\u001b[1;32m    596\u001b[0m     \u001b[0;32mdef\u001b[0m \u001b[0mwrapper\u001b[0m\u001b[0;34m(\u001b[0m\u001b[0;34m*\u001b[0m\u001b[0margs\u001b[0m\u001b[0;34m,\u001b[0m \u001b[0;34m**\u001b[0m\u001b[0mkwargs\u001b[0m\u001b[0;34m)\u001b[0m\u001b[0;34m:\u001b[0m\u001b[0;34m\u001b[0m\u001b[0;34m\u001b[0m\u001b[0m\n\u001b[1;32m    597\u001b[0m         \u001b[0mfailSafeCheck\u001b[0m\u001b[0;34m(\u001b[0m\u001b[0;34m)\u001b[0m\u001b[0;34m\u001b[0m\u001b[0;34m\u001b[0m\u001b[0m\n\u001b[0;32m--> 598\u001b[0;31m         \u001b[0mreturnVal\u001b[0m \u001b[0;34m=\u001b[0m \u001b[0mwrappedFunction\u001b[0m\u001b[0;34m(\u001b[0m\u001b[0;34m*\u001b[0m\u001b[0margs\u001b[0m\u001b[0;34m,\u001b[0m \u001b[0;34m**\u001b[0m\u001b[0mkwargs\u001b[0m\u001b[0;34m)\u001b[0m\u001b[0;34m\u001b[0m\u001b[0;34m\u001b[0m\u001b[0m\n\u001b[0m\u001b[1;32m    599\u001b[0m         \u001b[0m_handlePause\u001b[0m\u001b[0;34m(\u001b[0m\u001b[0mkwargs\u001b[0m\u001b[0;34m.\u001b[0m\u001b[0mget\u001b[0m\u001b[0;34m(\u001b[0m\u001b[0;34m\"_pause\"\u001b[0m\u001b[0;34m,\u001b[0m \u001b[0;32mTrue\u001b[0m\u001b[0;34m)\u001b[0m\u001b[0;34m)\u001b[0m\u001b[0;34m\u001b[0m\u001b[0;34m\u001b[0m\u001b[0m\n\u001b[1;32m    600\u001b[0m         \u001b[0;32mreturn\u001b[0m \u001b[0mreturnVal\u001b[0m\u001b[0;34m\u001b[0m\u001b[0;34m\u001b[0m\u001b[0m\n",
      "\u001b[0;32m/Library/Python/anaconda3/lib/python3.8/site-packages/pyautogui/__init__.py\u001b[0m in \u001b[0;36mclick\u001b[0;34m(x, y, clicks, interval, button, duration, tween, logScreenshot, _pause)\u001b[0m\n\u001b[1;32m    978\u001b[0m     \u001b[0;31m# TODO: I'm leaving buttons 4, 5, 6, and 7 undocumented for now. I need to understand how they work.\u001b[0m\u001b[0;34m\u001b[0m\u001b[0;34m\u001b[0m\u001b[0;34m\u001b[0m\u001b[0m\n\u001b[1;32m    979\u001b[0m     \u001b[0mbutton\u001b[0m \u001b[0;34m=\u001b[0m \u001b[0m_normalizeButton\u001b[0m\u001b[0;34m(\u001b[0m\u001b[0mbutton\u001b[0m\u001b[0;34m)\u001b[0m\u001b[0;34m\u001b[0m\u001b[0;34m\u001b[0m\u001b[0m\n\u001b[0;32m--> 980\u001b[0;31m     \u001b[0mx\u001b[0m\u001b[0;34m,\u001b[0m \u001b[0my\u001b[0m \u001b[0;34m=\u001b[0m \u001b[0m_normalizeXYArgs\u001b[0m\u001b[0;34m(\u001b[0m\u001b[0mx\u001b[0m\u001b[0;34m,\u001b[0m \u001b[0my\u001b[0m\u001b[0;34m)\u001b[0m\u001b[0;34m\u001b[0m\u001b[0;34m\u001b[0m\u001b[0m\n\u001b[0m\u001b[1;32m    981\u001b[0m \u001b[0;34m\u001b[0m\u001b[0m\n\u001b[1;32m    982\u001b[0m     \u001b[0;31m# Move the mouse cursor to the x, y coordinate:\u001b[0m\u001b[0;34m\u001b[0m\u001b[0;34m\u001b[0m\u001b[0;34m\u001b[0m\u001b[0m\n",
      "\u001b[0;32m/Library/Python/anaconda3/lib/python3.8/site-packages/pyautogui/__init__.py\u001b[0m in \u001b[0;36m_normalizeXYArgs\u001b[0;34m(firstArg, secondArg)\u001b[0m\n\u001b[1;32m    699\u001b[0m             )\n\u001b[1;32m    700\u001b[0m     \u001b[0;32melse\u001b[0m\u001b[0;34m:\u001b[0m\u001b[0;34m\u001b[0m\u001b[0;34m\u001b[0m\u001b[0m\n\u001b[0;32m--> 701\u001b[0;31m         \u001b[0;32mreturn\u001b[0m \u001b[0mPoint\u001b[0m\u001b[0;34m(\u001b[0m\u001b[0mint\u001b[0m\u001b[0;34m(\u001b[0m\u001b[0mfirstArg\u001b[0m\u001b[0;34m)\u001b[0m\u001b[0;34m,\u001b[0m \u001b[0mint\u001b[0m\u001b[0;34m(\u001b[0m\u001b[0msecondArg\u001b[0m\u001b[0;34m)\u001b[0m\u001b[0;34m)\u001b[0m  \u001b[0;31m# firstArg and secondArg are just x and y number values\u001b[0m\u001b[0;34m\u001b[0m\u001b[0;34m\u001b[0m\u001b[0m\n\u001b[0m\u001b[1;32m    702\u001b[0m \u001b[0;34m\u001b[0m\u001b[0m\n\u001b[1;32m    703\u001b[0m \u001b[0;34m\u001b[0m\u001b[0m\n",
      "\u001b[0;31mTypeError\u001b[0m: int() argument must be a string, a bytes-like object or a number, not 'function'"
     ]
    }
   ],
   "source": [
    "pag.click(login)\n",
    "pag.click(login)"
   ]
  },
  {
   "cell_type": "code",
   "execution_count": null,
   "metadata": {},
   "outputs": [
    {
     "name": "stdout",
     "output_type": "stream",
     "text": [
      "Point(x=518, y=-591)\n"
     ]
    }
   ],
   "source": [
    "key = pag.position()\n",
    "print(key)"
   ]
  },
  {
   "cell_type": "code",
   "execution_count": null,
   "metadata": {},
   "outputs": [],
   "source": [
    "pag.click(key)\n",
    "pag.click(key)"
   ]
  },
  {
   "cell_type": "code",
   "execution_count": null,
   "metadata": {},
   "outputs": [
    {
     "name": "stdout",
     "output_type": "stream",
     "text": [
      "Point(x=672, y=-408)\n"
     ]
    }
   ],
   "source": [
    "login = pag.position()\n",
    "print(login)"
   ]
  },
  {
   "cell_type": "code",
   "execution_count": null,
   "metadata": {},
   "outputs": [],
   "source": [
    "import time\n"
   ]
  },
  {
   "cell_type": "code",
   "execution_count": null,
   "metadata": {},
   "outputs": [],
   "source": [
    "pag.click(login_btn)\n",
    "time.sleep(1)\n",
    "pag.click(login_btn) #로그인 버튼 클릭\n",
    "time.sleep(1)\n",
    "pag.click(login)"
   ]
  },
  {
   "cell_type": "code",
   "execution_count": null,
   "metadata": {},
   "outputs": [
    {
     "name": "stdout",
     "output_type": "stream",
     "text": [
      "Point(x=243, y=-536)\n"
     ]
    }
   ],
   "source": [
    "login_tab = pag.position()\n",
    "print(login_tab)\n",
    "\n"
   ]
  },
  {
   "cell_type": "code",
   "execution_count": null,
   "metadata": {},
   "outputs": [
    {
     "name": "stdout",
     "output_type": "stream",
     "text": [
      "Point(x=401, y=-504)\n"
     ]
    }
   ],
   "source": [
    "login_1 = pag.position()\n",
    "print(login_1)"
   ]
  },
  {
   "cell_type": "code",
   "execution_count": null,
   "metadata": {},
   "outputs": [
    {
     "name": "stdout",
     "output_type": "stream",
     "text": [
      "Point(x=433, y=-470)\n"
     ]
    }
   ],
   "source": [
    "login_2 = pag.position()\n",
    "print(login_2)"
   ]
  },
  {
   "cell_type": "code",
   "execution_count": null,
   "metadata": {},
   "outputs": [
    {
     "name": "stdout",
     "output_type": "stream",
     "text": [
      "Point(x=574, y=-522)\n"
     ]
    }
   ],
   "source": [
    "login_btn = pag.position()\n",
    "print(login_btn)"
   ]
  },
  {
   "cell_type": "code",
   "execution_count": null,
   "metadata": {},
   "outputs": [],
   "source": [
    "# page Login\n",
    "pag.click(login_tab) #창 활성화\n",
    "time.sleep(1)        \n",
    "pag.click(login_1)   #txt활성\n",
    "time.sleep(1)\n",
    "pag.click(login_2)   #입력\n",
    "time.sleep(1)\n",
    "pag.click(login_btn) #로그인 버튼 클릭\n",
    "time.sleep(1)\n",
    "# page e_class_List\n",
    "pag.click(cls_ent)\n",
    "time.sleep(1)\n",
    "# ignore\n",
    "pag.click(ignore)\n",
    "time.sleep(1)\n",
    "# ent\n",
    "pag.click(ent)\n",
    "time.sleep(1)\n",
    "# see\n",
    "pag.click(see)\n",
    "time.sleep(1)\n",
    "# start_btn\n",
    "pag.click(start_btn)\n",
    "pag.click(start_btn)\n",
    "time.sleep(3)\n",
    "# X\n",
    "pag.click(X)\n",
    "time.sleep(1)\n",
    "# out_class\n",
    "pag.click(out)\n",
    "pag.click(out)\n",
    "# check\n",
    "pag.click(check)"
   ]
  },
  {
   "cell_type": "code",
   "execution_count": null,
   "metadata": {},
   "outputs": [
    {
     "name": "stdout",
     "output_type": "stream",
     "text": [
      "Point(x=1028, y=-464)\n"
     ]
    }
   ],
   "source": [
    "cls_ent = pag.position()\n",
    "print(cls_ent)"
   ]
  },
  {
   "cell_type": "code",
   "execution_count": null,
   "metadata": {},
   "outputs": [],
   "source": [
    "pag.click(cls_ent)\n",
    "pag.click(cls_ent)"
   ]
  },
  {
   "cell_type": "code",
   "execution_count": null,
   "metadata": {},
   "outputs": [
    {
     "name": "stdout",
     "output_type": "stream",
     "text": [
      "Point(x=450, y=-561)\n"
     ]
    }
   ],
   "source": [
    "ignore = pag.position()\n",
    "print(ignore)"
   ]
  },
  {
   "cell_type": "code",
   "execution_count": null,
   "metadata": {},
   "outputs": [],
   "source": [
    "pag.click(ignore)\n",
    "pag.click(ignore)"
   ]
  },
  {
   "cell_type": "code",
   "execution_count": null,
   "metadata": {},
   "outputs": [
    {
     "name": "stdout",
     "output_type": "stream",
     "text": [
      "Point(x=-225, y=-780)\n"
     ]
    }
   ],
   "source": [
    "ent = pag.position()\n",
    "print(ent)"
   ]
  },
  {
   "cell_type": "code",
   "execution_count": null,
   "metadata": {},
   "outputs": [],
   "source": [
    "pag.click(ent)\n",
    "pag.click(ent)"
   ]
  },
  {
   "cell_type": "code",
   "execution_count": null,
   "metadata": {},
   "outputs": [
    {
     "name": "stdout",
     "output_type": "stream",
     "text": [
      "Point(x=1523, y=-653)\n"
     ]
    }
   ],
   "source": [
    "see = pag.position()\n",
    "print(see)"
   ]
  },
  {
   "cell_type": "code",
   "execution_count": null,
   "metadata": {},
   "outputs": [],
   "source": [
    "pag.click(see)\n",
    "pag.click(see)"
   ]
  },
  {
   "cell_type": "code",
   "execution_count": null,
   "metadata": {},
   "outputs": [
    {
     "name": "stdout",
     "output_type": "stream",
     "text": [
      "Point(x=628, y=-480)\n"
     ]
    }
   ],
   "source": [
    "start_btn = pag.position()\n",
    "print(start_btn)"
   ]
  },
  {
   "cell_type": "code",
   "execution_count": null,
   "metadata": {},
   "outputs": [],
   "source": [
    "pag.click(start_btn)\n",
    "pag.click(start_btn)"
   ]
  },
  {
   "cell_type": "code",
   "execution_count": null,
   "metadata": {},
   "outputs": [
    {
     "name": "stdout",
     "output_type": "stream",
     "text": [
      "Point(x=116, y=-827)\n"
     ]
    }
   ],
   "source": [
    "X = pag.position()\n",
    "print(X)"
   ]
  },
  {
   "cell_type": "code",
   "execution_count": null,
   "metadata": {},
   "outputs": [],
   "source": [
    "pag.click(X)"
   ]
  },
  {
   "cell_type": "code",
   "execution_count": null,
   "metadata": {},
   "outputs": [
    {
     "name": "stdout",
     "output_type": "stream",
     "text": [
      "Point(x=-226, y=-576)\n"
     ]
    }
   ],
   "source": [
    "out = pag.position()\n",
    "print(out)"
   ]
  },
  {
   "cell_type": "code",
   "execution_count": null,
   "metadata": {},
   "outputs": [],
   "source": [
    "pag.click(out)\n",
    "pag.click(out)"
   ]
  },
  {
   "cell_type": "code",
   "execution_count": null,
   "metadata": {},
   "outputs": [
    {
     "name": "stdout",
     "output_type": "stream",
     "text": [
      "Point(x=862, y=-710)\n"
     ]
    }
   ],
   "source": [
    "check = pag.position()\n",
    "print(check)"
   ]
  },
  {
   "cell_type": "code",
   "execution_count": null,
   "metadata": {},
   "outputs": [],
   "source": [
    "pag.click(check)\n",
    "pag.click(check)"
   ]
  },
  {
   "cell_type": "code",
   "execution_count": 9,
   "metadata": {},
   "outputs": [
    {
     "ename": "NameError",
     "evalue": "name 'login_tab' is not defined",
     "output_type": "error",
     "traceback": [
      "\u001b[0;31m---------------------------------------------------------------------------\u001b[0m",
      "\u001b[0;31mNameError\u001b[0m                                 Traceback (most recent call last)",
      "\u001b[0;32m<ipython-input-9-ad7e1b720fa0>\u001b[0m in \u001b[0;36m<module>\u001b[0;34m\u001b[0m\n\u001b[1;32m      1\u001b[0m \u001b[0;31m# page Login\u001b[0m\u001b[0;34m\u001b[0m\u001b[0;34m\u001b[0m\u001b[0;34m\u001b[0m\u001b[0m\n\u001b[0;32m----> 2\u001b[0;31m \u001b[0mpag\u001b[0m\u001b[0;34m.\u001b[0m\u001b[0mclick\u001b[0m\u001b[0;34m(\u001b[0m\u001b[0mlogin_tab\u001b[0m\u001b[0;34m)\u001b[0m \u001b[0;31m# 창 활성화\u001b[0m\u001b[0;34m\u001b[0m\u001b[0;34m\u001b[0m\u001b[0m\n\u001b[0m\u001b[1;32m      3\u001b[0m \u001b[0mtime\u001b[0m\u001b[0;34m.\u001b[0m\u001b[0msleep\u001b[0m\u001b[0;34m(\u001b[0m\u001b[0;36m1\u001b[0m\u001b[0;34m)\u001b[0m\u001b[0;34m\u001b[0m\u001b[0;34m\u001b[0m\u001b[0m\n\u001b[1;32m      4\u001b[0m \u001b[0mpag\u001b[0m\u001b[0;34m.\u001b[0m\u001b[0mclick\u001b[0m\u001b[0;34m(\u001b[0m\u001b[0mlogin_1\u001b[0m\u001b[0;34m)\u001b[0m   \u001b[0;31m# txt활성\u001b[0m\u001b[0;34m\u001b[0m\u001b[0;34m\u001b[0m\u001b[0m\n\u001b[1;32m      5\u001b[0m \u001b[0mtime\u001b[0m\u001b[0;34m.\u001b[0m\u001b[0msleep\u001b[0m\u001b[0;34m(\u001b[0m\u001b[0;36m1\u001b[0m\u001b[0;34m)\u001b[0m\u001b[0;34m\u001b[0m\u001b[0;34m\u001b[0m\u001b[0m\n",
      "\u001b[0;31mNameError\u001b[0m: name 'login_tab' is not defined"
     ]
    }
   ],
   "source": [
    "# page Login\n",
    "pag.click(login_tab) # 창 활성화\n",
    "time.sleep(1)        \n",
    "pag.click(login_1)   # txt활성\n",
    "time.sleep(1)\n",
    "pag.click(login_2)   # 입력\n",
    "time.sleep(1)\n",
    "pag.click(login_btn) # 로그인 버튼 클릭\n",
    "time.sleep(1)\n",
    "# page e_class_List\n",
    "pag.click(cls_ent)   # 강의 접속\n",
    "time.sleep(1)\n",
    "# ignore\n",
    "pag.click(ignore)    # 보안 경고 무시\n",
    "time.sleep(1)\n",
    "# ent\n",
    "pag.click(ent)       # 강의 버튼\n",
    "time.sleep(1)\n",
    "# see\n",
    "pag.click(see)       # 수강 버튼\n",
    "time.sleep(1)\n",
    "# start_btn\n",
    "pag.click(start_btn) # 재생 버튼\n",
    "time.sleep(3)\n",
    "# X\n",
    "pag.click(X)         # 창 닫기\n",
    "time.sleep(1)\n",
    "# out_class\n",
    "pag.click(out)       # 창 활성화\n",
    "pag.click(out)       # 강의 종료\n",
    "time.sleep(1)\n",
    "# check\n",
    "pag.click(check)     # 종료 확인 버튼"
   ]
  },
  {
   "cell_type": "code",
   "execution_count": null,
   "metadata": {},
   "outputs": [],
   "source": []
  }
 ],
 "metadata": {
  "interpreter": {
   "hash": "aee8b7b246df8f9039afb4144a1f6fd8d2ca17a180786b69acc140d282b71a49"
  },
  "kernelspec": {
   "display_name": "Python 3.10.0 64-bit",
   "language": "python",
   "name": "python3"
  },
  "language_info": {
   "codemirror_mode": {
    "name": "ipython",
    "version": 3
   },
   "file_extension": ".py",
   "mimetype": "text/x-python",
   "name": "python",
   "nbconvert_exporter": "python",
   "pygments_lexer": "ipython3",
   "version": "3.8.8"
  },
  "orig_nbformat": 4
 },
 "nbformat": 4,
 "nbformat_minor": 2
}
